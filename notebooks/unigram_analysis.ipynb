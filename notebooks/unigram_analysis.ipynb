{
 "cells": [
  {
   "cell_type": "code",
   "execution_count": 1,
   "id": "cfa84835-bc18-41be-a865-20225e548dc2",
   "metadata": {},
   "outputs": [],
   "source": [
    "import plotly.express as px\n",
    "import pandas as pd\n",
    "\n",
    "from collections import defaultdict"
   ]
  },
  {
   "cell_type": "code",
   "execution_count": 2,
   "id": "30d461d2-d3fe-44c9-b775-a4a831fed832",
   "metadata": {},
   "outputs": [],
   "source": [
    "from sklearn.feature_extraction.text import TfidfVectorizer"
   ]
  },
  {
   "cell_type": "code",
   "execution_count": 3,
   "id": "edfa1d3f-ca25-4618-814f-f42b41bc8867",
   "metadata": {},
   "outputs": [],
   "source": [
    "alldf = pd.read_csv(\"../data/prep/clean_ruddit.csv\")\n",
    "raw_X, y = list(alldf[\"clean_text\"].str.split().values), list(alldf[\"score\"].values)"
   ]
  },
  {
   "cell_type": "code",
   "execution_count": 4,
   "id": "26bf7989-8456-43df-9b49-531f63105bdd",
   "metadata": {},
   "outputs": [],
   "source": [
    "tfidf = TfidfVectorizer(\n",
    "    analyzer='word',\n",
    "    tokenizer=lambda doc: doc,\n",
    "    preprocessor=lambda doc: doc,\n",
    "    token_pattern=None\n",
    ")\n",
    "X = tfidf.fit_transform(raw_X)"
   ]
  },
  {
   "cell_type": "code",
   "execution_count": 5,
   "id": "274f1bd7-a055-4726-b21e-8c983c051678",
   "metadata": {},
   "outputs": [
    {
     "name": "stdout",
     "output_type": "stream",
     "text": [
      "(5708, 11416)\n"
     ]
    }
   ],
   "source": [
    "A = X.todense()\n",
    "print(A.shape)\n",
    "df = pd.DataFrame(A)\n",
    "df[\"y\"] = y"
   ]
  },
  {
   "cell_type": "code",
   "execution_count": 6,
   "id": "0379aafc-c2d9-4038-98eb-17b7fe870085",
   "metadata": {},
   "outputs": [
    {
     "data": {
      "text/html": [
       "<div>\n",
       "<style scoped>\n",
       "    .dataframe tbody tr th:only-of-type {\n",
       "        vertical-align: middle;\n",
       "    }\n",
       "\n",
       "    .dataframe tbody tr th {\n",
       "        vertical-align: top;\n",
       "    }\n",
       "\n",
       "    .dataframe thead th {\n",
       "        text-align: right;\n",
       "    }\n",
       "</style>\n",
       "<table border=\"1\" class=\"dataframe\">\n",
       "  <thead>\n",
       "    <tr style=\"text-align: right;\">\n",
       "      <th></th>\n",
       "      <th>word</th>\n",
       "      <th>count</th>\n",
       "    </tr>\n",
       "  </thead>\n",
       "  <tbody>\n",
       "    <tr>\n",
       "      <th>0</th>\n",
       "      <td>i</td>\n",
       "      <td>5748</td>\n",
       "    </tr>\n",
       "    <tr>\n",
       "      <th>1</th>\n",
       "      <td>not</td>\n",
       "      <td>4027</td>\n",
       "    </tr>\n",
       "    <tr>\n",
       "      <th>2</th>\n",
       "      <td>people</td>\n",
       "      <td>1064</td>\n",
       "    </tr>\n",
       "    <tr>\n",
       "      <th>3</th>\n",
       "      <td>like</td>\n",
       "      <td>915</td>\n",
       "    </tr>\n",
       "    <tr>\n",
       "      <th>4</th>\n",
       "      <td>think</td>\n",
       "      <td>727</td>\n",
       "    </tr>\n",
       "  </tbody>\n",
       "</table>\n",
       "</div>"
      ],
      "text/plain": [
       "     word  count\n",
       "0       i   5748\n",
       "1     not   4027\n",
       "2  people   1064\n",
       "3    like    915\n",
       "4   think    727"
      ]
     },
     "execution_count": 6,
     "metadata": {},
     "output_type": "execute_result"
    }
   ],
   "source": [
    "# conteo de unigramas\n",
    "unigram_count = defaultdict(int)\n",
    "for text in alldf[\"clean_text\"]:\n",
    "    toks = text.split()\n",
    "    for token in toks:\n",
    "        unigram_count[token] +=1\n",
    "\n",
    "top20_unigrams = pd.DataFrame(sorted(unigram_count.items(), key=lambda x: x[1])[::-1], columns=[\"word\", \"count\"])[:20]\n",
    "top20_unigrams.head()"
   ]
  },
  {
   "cell_type": "code",
   "execution_count": null,
   "id": "086eeef5-8bd2-43b1-885e-04c4868c0623",
   "metadata": {
    "tags": []
   },
   "outputs": [],
   "source": [
    "fig = px.bar(\n",
    "    top20_unigrams.sort_values(by=\"count\"),\n",
    "    x=\"count\",\n",
    "    y=\"word\",\n",
    "    orientation=\"h\",\n",
    "    color=[\"#0a7347\"] * top20_unigrams.shape[0],\n",
    "    color_discrete_map=\"identity\"\n",
    ")\n",
    "fig.update_layout(title=\"Top 20 unigramas con mayor ocurrencia\")\n",
    "fig.show(\"svg\")"
   ]
  },
  {
   "cell_type": "code",
   "execution_count": 7,
   "id": "d1057362-7f80-4971-af18-2859ab4c9450",
   "metadata": {},
   "outputs": [],
   "source": [
    "top20_vocab = {word: tfidf.vocabulary_[word] for word in top20_unigrams[\"word\"]}\n",
    "top20_X = df[[i for i in top20_vocab.values()] + [\"y\"]]\n",
    "top20_X = top20_X.rename(columns={top20_vocab[word]: word for word in top20_vocab})"
   ]
  },
  {
   "cell_type": "code",
   "execution_count": 10,
   "id": "9bb674ce-894f-43ae-bd59-11cd67ef04da",
   "metadata": {},
   "outputs": [
    {
     "data": {
      "text/html": [
       "<div>\n",
       "<style scoped>\n",
       "    .dataframe tbody tr th:only-of-type {\n",
       "        vertical-align: middle;\n",
       "    }\n",
       "\n",
       "    .dataframe tbody tr th {\n",
       "        vertical-align: top;\n",
       "    }\n",
       "\n",
       "    .dataframe thead th {\n",
       "        text-align: right;\n",
       "    }\n",
       "</style>\n",
       "<table border=\"1\" class=\"dataframe\">\n",
       "  <thead>\n",
       "    <tr style=\"text-align: right;\">\n",
       "      <th></th>\n",
       "      <th>i</th>\n",
       "      <th>not</th>\n",
       "      <th>people</th>\n",
       "      <th>like</th>\n",
       "      <th>think</th>\n",
       "      <th>!</th>\n",
       "      <th>want</th>\n",
       "      <th>know</th>\n",
       "      <th>time</th>\n",
       "      <th>thing</th>\n",
       "    </tr>\n",
       "  </thead>\n",
       "  <tbody>\n",
       "    <tr>\n",
       "      <th>y</th>\n",
       "      <td>-0.033363</td>\n",
       "      <td>0.066331</td>\n",
       "      <td>0.084843</td>\n",
       "      <td>0.052157</td>\n",
       "      <td>0.012892</td>\n",
       "      <td>-0.018407</td>\n",
       "      <td>0.069977</td>\n",
       "      <td>0.029491</td>\n",
       "      <td>-0.01766</td>\n",
       "      <td>0.001997</td>\n",
       "    </tr>\n",
       "  </tbody>\n",
       "</table>\n",
       "</div>"
      ],
      "text/plain": [
       "          i       not    people      like     think         !      want  \\\n",
       "y -0.033363  0.066331  0.084843  0.052157  0.012892 -0.018407  0.069977   \n",
       "\n",
       "       know     time     thing  \n",
       "y  0.029491 -0.01766  0.001997  "
      ]
     },
     "execution_count": 10,
     "metadata": {},
     "output_type": "execute_result"
    }
   ],
   "source": [
    "top20_X.corr().loc[:, [\"y\",]][:10].T"
   ]
  },
  {
   "cell_type": "code",
   "execution_count": 11,
   "id": "1e6b1ded-2ba2-4560-bc3f-56b39f625468",
   "metadata": {},
   "outputs": [
    {
     "data": {
      "text/html": [
       "<div>\n",
       "<style scoped>\n",
       "    .dataframe tbody tr th:only-of-type {\n",
       "        vertical-align: middle;\n",
       "    }\n",
       "\n",
       "    .dataframe tbody tr th {\n",
       "        vertical-align: top;\n",
       "    }\n",
       "\n",
       "    .dataframe thead th {\n",
       "        text-align: right;\n",
       "    }\n",
       "</style>\n",
       "<table border=\"1\" class=\"dataframe\">\n",
       "  <thead>\n",
       "    <tr style=\"text-align: right;\">\n",
       "      <th></th>\n",
       "      <th>good</th>\n",
       "      <th>use</th>\n",
       "      <th>woman</th>\n",
       "      <th>work</th>\n",
       "      <th>need</th>\n",
       "      <th>right</th>\n",
       "      <th>way</th>\n",
       "      <th>man</th>\n",
       "      <th>fuck</th>\n",
       "      <th>mean</th>\n",
       "      <th>y</th>\n",
       "    </tr>\n",
       "  </thead>\n",
       "  <tbody>\n",
       "    <tr>\n",
       "      <th>y</th>\n",
       "      <td>-0.061653</td>\n",
       "      <td>0.017541</td>\n",
       "      <td>0.071359</td>\n",
       "      <td>0.011259</td>\n",
       "      <td>0.017207</td>\n",
       "      <td>0.030708</td>\n",
       "      <td>-0.010798</td>\n",
       "      <td>0.036538</td>\n",
       "      <td>0.429701</td>\n",
       "      <td>0.012508</td>\n",
       "      <td>1.0</td>\n",
       "    </tr>\n",
       "  </tbody>\n",
       "</table>\n",
       "</div>"
      ],
      "text/plain": [
       "       good       use     woman      work      need     right       way  \\\n",
       "y -0.061653  0.017541  0.071359  0.011259  0.017207  0.030708 -0.010798   \n",
       "\n",
       "        man      fuck      mean    y  \n",
       "y  0.036538  0.429701  0.012508  1.0  "
      ]
     },
     "execution_count": 11,
     "metadata": {},
     "output_type": "execute_result"
    }
   ],
   "source": [
    "top20_X.corr().loc[:, [\"y\",]][10:].T"
   ]
  },
  {
   "cell_type": "code",
   "execution_count": 12,
   "id": "fd1dea98-c175-4e99-b113-fe2180decabb",
   "metadata": {},
   "outputs": [
    {
     "name": "stdout",
     "output_type": "stream",
     "text": [
      "2.9238345091576956e-255\n"
     ]
    }
   ],
   "source": [
    "from scipy.stats import pearsonr\n",
    "\n",
    "_, pvalue = pearsonr(top20_X[\"fuck\"], top20_X[\"y\"])\n",
    "\n",
    "print(pvalue) # menor al 5% - estadísticamente significante - rechazar hipótesis nula"
   ]
  },
  {
   "cell_type": "code",
   "execution_count": null,
   "id": "aff6601d-5fdb-42a8-b923-dd6bde12c15d",
   "metadata": {},
   "outputs": [],
   "source": []
  }
 ],
 "metadata": {
  "kernelspec": {
   "display_name": "Python 3 (ipykernel)",
   "language": "python",
   "name": "python3"
  },
  "language_info": {
   "codemirror_mode": {
    "name": "ipython",
    "version": 3
   },
   "file_extension": ".py",
   "mimetype": "text/x-python",
   "name": "python",
   "nbconvert_exporter": "python",
   "pygments_lexer": "ipython3",
   "version": "3.8.13"
  }
 },
 "nbformat": 4,
 "nbformat_minor": 5
}
