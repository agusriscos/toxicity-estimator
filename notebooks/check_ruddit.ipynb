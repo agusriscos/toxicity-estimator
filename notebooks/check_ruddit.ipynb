{
 "cells": [
  {
   "cell_type": "code",
   "execution_count": 1,
   "id": "a5078e91-a711-4ec8-b75f-dffaedcf6e17",
   "metadata": {},
   "outputs": [],
   "source": [
    "import pandas as pd\n",
    "import seaborn as sns"
   ]
  },
  {
   "cell_type": "code",
   "execution_count": 3,
   "id": "0628c546-eba4-49aa-ae9d-162ea18dbfc9",
   "metadata": {},
   "outputs": [],
   "source": [
    "df = pd.read_csv(\"../data/raw/ruddit.csv\", usecols=[\"txt\", \"offensiveness_score\"])\n",
    "df = df.rename(columns={\"txt\": \"comment\", \"offensiveness_score\": \"score\"})"
   ]
  },
  {
   "cell_type": "code",
   "execution_count": 4,
   "id": "9ad62c0d-5f41-496c-832f-034e697172f8",
   "metadata": {},
   "outputs": [
    {
     "data": {
      "text/html": [
       "<div>\n",
       "<style scoped>\n",
       "    .dataframe tbody tr th:only-of-type {\n",
       "        vertical-align: middle;\n",
       "    }\n",
       "\n",
       "    .dataframe tbody tr th {\n",
       "        vertical-align: top;\n",
       "    }\n",
       "\n",
       "    .dataframe thead th {\n",
       "        text-align: right;\n",
       "    }\n",
       "</style>\n",
       "<table border=\"1\" class=\"dataframe\">\n",
       "  <thead>\n",
       "    <tr style=\"text-align: right;\">\n",
       "      <th></th>\n",
       "      <th>comment</th>\n",
       "      <th>score</th>\n",
       "    </tr>\n",
       "  </thead>\n",
       "  <tbody>\n",
       "    <tr>\n",
       "      <th>0</th>\n",
       "      <td>&gt; The difference in average earnings between m...</td>\n",
       "      <td>-0.083</td>\n",
       "    </tr>\n",
       "    <tr>\n",
       "      <th>1</th>\n",
       "      <td>The myth is that the \"gap\" is entirely based o...</td>\n",
       "      <td>-0.022</td>\n",
       "    </tr>\n",
       "  </tbody>\n",
       "</table>\n",
       "</div>"
      ],
      "text/plain": [
       "                                             comment  score\n",
       "0  > The difference in average earnings between m... -0.083\n",
       "1  The myth is that the \"gap\" is entirely based o... -0.022"
      ]
     },
     "execution_count": 4,
     "metadata": {},
     "output_type": "execute_result"
    }
   ],
   "source": [
    "df.head(2)"
   ]
  },
  {
   "cell_type": "code",
   "execution_count": 5,
   "id": "aba47547-09d0-4578-9665-178db80b0362",
   "metadata": {},
   "outputs": [
    {
     "name": "stdout",
     "output_type": "stream",
     "text": [
      "---- Comentarios de apoyo ----\n",
      "[Comment Score] Queens of The Stone Age.  -0.688\n",
      "[Comment Score] Thanks and good luck! You can do it!! -0.667\n",
      "[Comment Score] It's not a direct comparison, you're right.  -0.63\n"
     ]
    }
   ],
   "source": [
    "print(\"---- Comentarios de apoyo ----\")\n",
    "[print(\"[Comment Score]\", c[0], c[1]) for c in df.loc[df.score < -0.5].sample(n=3, random_state=2).values];"
   ]
  },
  {
   "cell_type": "code",
   "execution_count": 6,
   "id": "7133aa55-5401-4257-8a1a-109460f00513",
   "metadata": {},
   "outputs": [
    {
     "name": "stdout",
     "output_type": "stream",
     "text": [
      "---- Discursos de odio ----\n",
      "[Comment Score] Nope.  If the wife gets to fuck someone else, do do you. 0.708\n",
      "[Comment Score] haha, right? The fuck was his statement even thinking? \"Yea, let's crush the economy just a little more!\" 0.717\n",
      "[Comment Score] Don’t fuck a rope. 0.708\n"
     ]
    }
   ],
   "source": [
    "print(\"---- Discursos de odio ----\")\n",
    "[print(\"[Comment Score]\", c[0], c[1]) for c in df.loc[df.score > 0.7].sample(n=3, random_state=2).values];"
   ]
  },
  {
   "cell_type": "code",
   "execution_count": 7,
   "id": "e381c351-2e43-4000-8eb7-d09a7a9022c3",
   "metadata": {},
   "outputs": [
    {
     "name": "stdout",
     "output_type": "stream",
     "text": [
      "--- Distribución de la variable objetivo (datos originales) ---\n"
     ]
    },
    {
     "data": {
      "image/png": "[encoded data removed]",
      "text/plain": [
       "<Figure size 360x360 with 1 Axes>"
      ]
     },
     "metadata": {
      "needs_background": "light"
     },
     "output_type": "display_data"
    }
   ],
   "source": [
    "print(\"--- Distribución de la variable objetivo (datos originales) ---\")\n",
    "sns.displot(df.score, kde=True);"
   ]
  },
  {
   "cell_type": "code",
   "execution_count": 8,
   "id": "3385bce8-e813-4c82-99ba-b916eca67d24",
   "metadata": {},
   "outputs": [
    {
     "data": {
      "text/plain": [
       "[deleted]    116\n",
       "[removed]     12\n",
       "Name: comment, dtype: int64"
      ]
     },
     "execution_count": 8,
     "metadata": {},
     "output_type": "execute_result"
    }
   ],
   "source": [
    "# Hay comentarios que ya se han borrado (Valores [deleted] or [removed])\n",
    "ccount = df.comment.value_counts()\n",
    "ccount[ccount > 1]"
   ]
  },
  {
   "cell_type": "code",
   "execution_count": null,
   "id": "9c702dae-570d-4103-b65a-14b13b4f48e5",
   "metadata": {},
   "outputs": [],
   "source": []
  }
 ],
 "metadata": {
  "kernelspec": {
   "display_name": "Python 3 (ipykernel)",
   "language": "python",
   "name": "python3"
  },
  "language_info": {
   "codemirror_mode": {
    "name": "ipython",
    "version": 3
   },
   "file_extension": ".py",
   "mimetype": "text/x-python",
   "name": "python",
   "nbconvert_exporter": "python",
   "pygments_lexer": "ipython3",
   "version": "3.8.13"
  }
 },
 "nbformat": 4,
 "nbformat_minor": 5
}
