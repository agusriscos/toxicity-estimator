{
 "cells": [
  {
   "cell_type": "code",
   "execution_count": 1,
   "id": "a5078e91-a711-4ec8-b75f-dffaedcf6e17",
   "metadata": {},
   "outputs": [],
   "source": [
    "import pandas as pd\n",
    "from matplotlib import pyplot as plt\n",
    "import seaborn as sns\n",
    "\n",
    "import spacy\n",
    "from sklearn.feature_extraction.text import TfidfVectorizer"
   ]
  },
  {
   "cell_type": "code",
   "execution_count": 2,
   "id": "0628c546-eba4-49aa-ae9d-162ea18dbfc9",
   "metadata": {},
   "outputs": [],
   "source": [
    "df = pd.read_csv(\"../data/raw/ruddit.csv\", usecols=[\"txt\", \"offensiveness_score\"])\n",
    "df = df.rename(columns={\"txt\": \"comment\", \"offensiveness_score\": \"score\"})"
   ]
  },
  {
   "cell_type": "code",
   "execution_count": 3,
   "id": "9ad62c0d-5f41-496c-832f-034e697172f8",
   "metadata": {},
   "outputs": [
    {
     "data": {
      "text/html": [
       "<div>\n",
       "<style scoped>\n",
       "    .dataframe tbody tr th:only-of-type {\n",
       "        vertical-align: middle;\n",
       "    }\n",
       "\n",
       "    .dataframe tbody tr th {\n",
       "        vertical-align: top;\n",
       "    }\n",
       "\n",
       "    .dataframe thead th {\n",
       "        text-align: right;\n",
       "    }\n",
       "</style>\n",
       "<table border=\"1\" class=\"dataframe\">\n",
       "  <thead>\n",
       "    <tr style=\"text-align: right;\">\n",
       "      <th></th>\n",
       "      <th>comment</th>\n",
       "      <th>score</th>\n",
       "    </tr>\n",
       "  </thead>\n",
       "  <tbody>\n",
       "    <tr>\n",
       "      <th>0</th>\n",
       "      <td>&gt; The difference in average earnings between m...</td>\n",
       "      <td>-0.083</td>\n",
       "    </tr>\n",
       "    <tr>\n",
       "      <th>1</th>\n",
       "      <td>The myth is that the \"gap\" is entirely based o...</td>\n",
       "      <td>-0.022</td>\n",
       "    </tr>\n",
       "  </tbody>\n",
       "</table>\n",
       "</div>"
      ],
      "text/plain": [
       "                                             comment  score\n",
       "0  > The difference in average earnings between m... -0.083\n",
       "1  The myth is that the \"gap\" is entirely based o... -0.022"
      ]
     },
     "execution_count": 3,
     "metadata": {},
     "output_type": "execute_result"
    }
   ],
   "source": [
    "df.head(2)"
   ]
  },
  {
   "cell_type": "code",
   "execution_count": 4,
   "id": "aba47547-09d0-4578-9665-178db80b0362",
   "metadata": {},
   "outputs": [
    {
     "name": "stdout",
     "output_type": "stream",
     "text": [
      "---- Comentarios de apoyo ----\n",
      "[Comment Score] Queens of The Stone Age.  -0.688\n",
      "[Comment Score] Thanks and good luck! You can do it!! -0.667\n",
      "[Comment Score] It's not a direct comparison, you're right.  -0.63\n"
     ]
    }
   ],
   "source": [
    "print(\"---- Comentarios de apoyo ----\")\n",
    "[print(\"[Comment Score]\", c[0], c[1]) for c in df.loc[df.score < -0.5].sample(n=3, random_state=2).values];"
   ]
  },
  {
   "cell_type": "code",
   "execution_count": 5,
   "id": "7133aa55-5401-4257-8a1a-109460f00513",
   "metadata": {},
   "outputs": [
    {
     "name": "stdout",
     "output_type": "stream",
     "text": [
      "---- Discursos de odio ----\n",
      "[Comment Score] Nope.  If the wife gets to fuck someone else, do do you. 0.708\n",
      "[Comment Score] haha, right? The fuck was his statement even thinking? \"Yea, let's crush the economy just a little more!\" 0.717\n",
      "[Comment Score] Don’t fuck a rope. 0.708\n"
     ]
    }
   ],
   "source": [
    "print(\"---- Discursos de odio ----\")\n",
    "[print(\"[Comment Score]\", c[0], c[1]) for c in df.loc[df.score > 0.7].sample(n=3, random_state=2).values];"
   ]
  },
  {
   "cell_type": "code",
   "execution_count": 6,
   "id": "fae0186f-0173-4cf4-9c58-e17621275810",
   "metadata": {},
   "outputs": [
    {
     "name": "stdout",
     "output_type": "stream",
     "text": [
      "--- Distribución de la variable objetivo (datos originales) ---\n"
     ]
    },
    {
     "data": {
      "image/png": "[encoded data removed]",
      "text/plain": [
       "<Figure size 432x432 with 2 Axes>"
      ]
     },
     "metadata": {
      "needs_background": "light"
     },
     "output_type": "display_data"
    }
   ],
   "source": [
    "print(\"--- Distribución de la variable objetivo (datos originales) ---\")\n",
    "fig, ax = plt.subplots(2, figsize=(6, 6))\n",
    "sns.histplot(df.score, kde=True, ax=ax[0]);\n",
    "sns.boxplot(data=df, x=\"score\", width=.25, ax=ax[1]);"
   ]
  },
  {
   "cell_type": "markdown",
   "id": "979d8483-016c-4fcb-bcda-52763cd3547e",
   "metadata": {
    "tags": []
   },
   "source": [
    "### Primeros pasos - preprocesamiento simple"
   ]
  },
  {
   "cell_type": "markdown",
   "id": "9f9ea144-3d68-4d82-b447-8ef6acb4ad52",
   "metadata": {},
   "source": [
    "#### [deleted] y [removed]"
   ]
  },
  {
   "cell_type": "code",
   "execution_count": 7,
   "id": "3385bce8-e813-4c82-99ba-b916eca67d24",
   "metadata": {},
   "outputs": [
    {
     "data": {
      "text/plain": [
       "[deleted]    116\n",
       "[removed]     12\n",
       "Name: comment, dtype: int64"
      ]
     },
     "execution_count": 7,
     "metadata": {},
     "output_type": "execute_result"
    }
   ],
   "source": [
    "# Hay comentarios que ya se han borrado (Valores [deleted] or [removed])\n",
    "ccount = df.comment.value_counts()\n",
    "ccount[ccount > 1]"
   ]
  },
  {
   "cell_type": "code",
   "execution_count": 7,
   "id": "9c702dae-570d-4103-b65a-14b13b4f48e5",
   "metadata": {},
   "outputs": [
    {
     "name": "stdout",
     "output_type": "stream",
     "text": [
      "Numero de comentarios: 5710\n"
     ]
    }
   ],
   "source": [
    "# Borramos los comentarios eliminados\n",
    "df = df[~df.comment.isin([\"[deleted]\", \"[removed]\"])]\n",
    "print(\"Numero de comentarios:\", df.shape[0])"
   ]
  },
  {
   "cell_type": "code",
   "execution_count": 24,
   "id": "d6470847-c200-4db3-857b-f31473193369",
   "metadata": {},
   "outputs": [],
   "source": [
    "# [print(\"[\" + str(i) + \"]\", t) for i, t in enumerate(df[df.score > .25].comment)];"
   ]
  },
  {
   "cell_type": "markdown",
   "id": "fab81a52-521b-4cd4-b22f-7ded745444d9",
   "metadata": {},
   "source": [
    "#### Mayúsculas\n",
    "\n",
    "Tanto dejar las mayúsculas como convertir todo el texto a minúsculas tiene sus ventajas y desventajas. En este caso buscamos reducir el vocabulario, es decir, el número de variables para facilitar el entrenamiento de los modelos."
   ]
  },
  {
   "cell_type": "code",
   "execution_count": 10,
   "id": "1d4ee859-6dca-4ba2-83f0-822a24a21881",
   "metadata": {},
   "outputs": [],
   "source": [
    "# Convertimos a minúsculas??? No hay respuesta correcta.\n",
    "df.comment = df.comment.str.lower()"
   ]
  },
  {
   "cell_type": "markdown",
   "id": "63517656-a75f-45d8-847d-40796f1de591",
   "metadata": {},
   "source": [
    "#### Eliminamos espacios sobrantes, caracteres extraños, menciones...\n",
    "\n",
    "Reducimos el ruido del dataset suprimiendo información que no es útil."
   ]
  },
  {
   "cell_type": "code",
   "execution_count": 11,
   "id": "51778030-d63f-494a-a6f5-dcb3881dfbd2",
   "metadata": {},
   "outputs": [],
   "source": [
    "# Eliminamos espacios extra\n",
    "df.comment = df.comment.apply(\n",
    "    lambda x: ' '.join([w for w in str(x).split()])\n",
    ")"
   ]
  },
  {
   "cell_type": "code",
   "execution_count": 12,
   "id": "5e0357c1-3c53-4d0e-a0b5-ec59161be12c",
   "metadata": {},
   "outputs": [],
   "source": [
    "# Eliminamos carácter &#x200b; - Caracter UNICODE que representa el espacio.\n",
    "# [print(\"[\" + str(i) + \"]\", t) for i, t in enumerate(df[df.comment.str.contains(\"&#x200b;\")].head(10).comment)];\n",
    "df.comment = df.comment.str.replace(\"&#x200b;\", \"\")"
   ]
  },
  {
   "cell_type": "code",
   "execution_count": 19,
   "id": "492cdb0e-497f-403a-ad84-ca5acf361d59",
   "metadata": {},
   "outputs": [],
   "source": [
    "# Eliminar carácter >. Ruido tras la extracción de texto de Reddit\n",
    "df.comment = df.comment.str.replace(\">\", \"\")"
   ]
  },
  {
   "cell_type": "code",
   "execution_count": 10,
   "id": "6f6730fa-4de4-4019-85bc-81007304e9c0",
   "metadata": {},
   "outputs": [
    {
     "name": "stdout",
     "output_type": "stream",
     "text": [
      "43\n"
     ]
    }
   ],
   "source": [
    "# TODO: Eliminamos menciones a canales y usuarios\n",
    "search = [\" r/\", \" /r/\", \" u/\", \" /u/\"]\n",
    "print(df[df.comment.str.contains(\"|\".join(search))].shape[0])\n",
    "# [print(\"[\" + str(i) + \"]\", \"[SCORE:] \"+ str(t[1]) + \" -\", t[0]) for i, t in enumerate(df[df.comment.str.contains(\"|\".join(search))].values)]"
   ]
  },
  {
   "cell_type": "code",
   "execution_count": 15,
   "id": "1fdb8124-4ba1-468e-add5-1b0fcfb43b4d",
   "metadata": {},
   "outputs": [],
   "source": [
    "# FUERA DE ALCANCE (Primer borrador): Expandir contracciones (IMO, LOL...)\n",
    "# [print(t) for t in df[df.comment.str.contains(\" lol \")].comment];"
   ]
  },
  {
   "cell_type": "markdown",
   "id": "f474c41e-95a9-4c3e-be4a-47c269bda247",
   "metadata": {},
   "source": [
    "### Modelo Baseline - TFIDF + regresor"
   ]
  },
  {
   "cell_type": "code",
   "execution_count": 16,
   "id": "483f5e62-612b-4c1f-ab3f-c336b22d2845",
   "metadata": {},
   "outputs": [],
   "source": [
    "# TODO: Montamos un modelo baseline como punto de partida\n",
    "\"\"\"tfidf = TfidfVectorizer(\n",
    "    analyzer='word',\n",
    "    tokenizer=lambda doc: doc,\n",
    "    preprocessor=lambda doc: doc,\n",
    "    token_pattern=None\n",
    ")\"\"\" \n",
    "tfidf = None"
   ]
  },
  {
   "cell_type": "code",
   "execution_count": null,
   "id": "8ac44579-07b4-4767-b83f-16fbb3fda381",
   "metadata": {},
   "outputs": [],
   "source": []
  }
 ],
 "metadata": {
  "kernelspec": {
   "display_name": "Python 3 (ipykernel)",
   "language": "python",
   "name": "python3"
  },
  "language_info": {
   "codemirror_mode": {
    "name": "ipython",
    "version": 3
   },
   "file_extension": ".py",
   "mimetype": "text/x-python",
   "name": "python",
   "nbconvert_exporter": "python",
   "pygments_lexer": "ipython3",
   "version": "3.8.13"
  }
 },
 "nbformat": 4,
 "nbformat_minor": 5
}
