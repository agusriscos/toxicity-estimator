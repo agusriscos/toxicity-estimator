{
 "cells": [
  {
   "cell_type": "code",
   "execution_count": 2,
   "id": "fdda62ba-df9e-47f9-af02-db42703b2e14",
   "metadata": {},
   "outputs": [
    {
     "name": "stdout",
     "output_type": "stream",
     "text": [
      "C:\\Users\\agusr\\toxicity-estimator\n"
     ]
    }
   ],
   "source": [
    "import os\n",
    "os.chdir(\"..\")\n",
    "print(os.getcwd())"
   ]
  },
  {
   "cell_type": "code",
   "execution_count": 9,
   "id": "76dc7df7-d15d-44cf-9df8-d9e1ef55ce6a",
   "metadata": {},
   "outputs": [],
   "source": [
    "import pandas as pd\n",
    "\n",
    "from sklearn.model_selection import train_test_split\n",
    "from sklearn.feature_extraction.text import TfidfVectorizer\n",
    "from sklearn.linear_model import Ridge\n",
    "from src.ruddit import read_ruddit, clean_ruddit"
   ]
  },
  {
   "cell_type": "code",
   "execution_count": 5,
   "id": "d6bf2bf7-18b1-475e-8851-61aa5d371e5b",
   "metadata": {},
   "outputs": [],
   "source": [
    "df = read_ruddit(\"data/raw/ruddit.csv\")\n",
    "out = df[~df.text.isin([\"[deleted]\", \"[removed]\"])].reset_index(drop=True)  # [deleted] [removed]\n",
    "out = out.drop(4354, axis=0).reset_index(drop=True)  # comentario sin información\n",
    "out.text = out.text.str.lower()  # minúsculas"
   ]
  },
  {
   "cell_type": "code",
   "execution_count": 14,
   "id": "4d9df378-dba2-4766-b72a-55581be853f4",
   "metadata": {},
   "outputs": [],
   "source": [
    "train, test = train_test_split(out, test_size=.2)\n",
    "tfidf = TfidfVectorizer()"
   ]
  },
  {
   "cell_type": "code",
   "execution_count": 15,
   "id": "1e1d884f-d1b7-4b44-bd36-81170d128bd0",
   "metadata": {},
   "outputs": [],
   "source": [
    "X_train = tfidf.fit_transform(train[\"text\"])\n",
    "X_test = tfidf.transform(test[\"text\"])"
   ]
  },
  {
   "cell_type": "code",
   "execution_count": 16,
   "id": "f960e7f6-acad-4b24-82ab-0b9886765b78",
   "metadata": {},
   "outputs": [
    {
     "data": {
      "text/plain": [
       "13122"
      ]
     },
     "execution_count": 16,
     "metadata": {},
     "output_type": "execute_result"
    }
   ],
   "source": [
    "len(tfidf.vocabulary_) # vocabulary length"
   ]
  },
  {
   "cell_type": "code",
   "execution_count": null,
   "id": "78576b25-837c-4c1a-b60e-c3f2b24c3aa5",
   "metadata": {},
   "outputs": [],
   "source": []
  }
 ],
 "metadata": {
  "kernelspec": {
   "display_name": "Python 3 (ipykernel)",
   "language": "python",
   "name": "python3"
  },
  "language_info": {
   "codemirror_mode": {
    "name": "ipython",
    "version": 3
   },
   "file_extension": ".py",
   "mimetype": "text/x-python",
   "name": "python",
   "nbconvert_exporter": "python",
   "pygments_lexer": "ipython3",
   "version": "3.8.13"
  }
 },
 "nbformat": 4,
 "nbformat_minor": 5
}
